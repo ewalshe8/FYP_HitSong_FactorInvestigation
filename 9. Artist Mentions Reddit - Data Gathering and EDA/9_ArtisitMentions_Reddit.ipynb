{
  "nbformat": 4,
  "nbformat_minor": 0,
  "metadata": {
    "colab": {
      "name": "9. ArtisitMentions_Reddit.ipynb",
      "provenance": [],
      "collapsed_sections": []
    },
    "kernelspec": {
      "name": "python3",
      "display_name": "Python 3"
    },
    "language_info": {
      "name": "python"
    }
  },
  "cells": [
    {
      "cell_type": "code",
      "source": [
        "!pip install praw\n",
        "!pip install psaw\n",
        "!pip install pmaw"
      ],
      "metadata": {
        "colab": {
          "base_uri": "https://localhost:8080/"
        },
        "id": "FaMXpGWrjFvQ",
        "outputId": "a4f5eff2-389c-42dc-d569-3493ca442834"
      },
      "execution_count": null,
      "outputs": [
        {
          "output_type": "stream",
          "name": "stdout",
          "text": [
            "Collecting praw\n",
            "  Downloading praw-7.5.0-py3-none-any.whl (176 kB)\n",
            "\u001b[K     |████████████████████████████████| 176 kB 5.2 MB/s \n",
            "\u001b[?25hCollecting update-checker>=0.18\n",
            "  Downloading update_checker-0.18.0-py3-none-any.whl (7.0 kB)\n",
            "Collecting prawcore<3,>=2.1\n",
            "  Downloading prawcore-2.3.0-py3-none-any.whl (16 kB)\n",
            "Collecting websocket-client>=0.54.0\n",
            "  Downloading websocket_client-1.3.2-py3-none-any.whl (54 kB)\n",
            "\u001b[K     |████████████████████████████████| 54 kB 2.4 MB/s \n",
            "\u001b[?25hRequirement already satisfied: requests<3.0,>=2.6.0 in /usr/local/lib/python3.7/dist-packages (from prawcore<3,>=2.1->praw) (2.23.0)\n",
            "Requirement already satisfied: idna<3,>=2.5 in /usr/local/lib/python3.7/dist-packages (from requests<3.0,>=2.6.0->prawcore<3,>=2.1->praw) (2.10)\n",
            "Requirement already satisfied: urllib3!=1.25.0,!=1.25.1,<1.26,>=1.21.1 in /usr/local/lib/python3.7/dist-packages (from requests<3.0,>=2.6.0->prawcore<3,>=2.1->praw) (1.24.3)\n",
            "Requirement already satisfied: certifi>=2017.4.17 in /usr/local/lib/python3.7/dist-packages (from requests<3.0,>=2.6.0->prawcore<3,>=2.1->praw) (2021.10.8)\n",
            "Requirement already satisfied: chardet<4,>=3.0.2 in /usr/local/lib/python3.7/dist-packages (from requests<3.0,>=2.6.0->prawcore<3,>=2.1->praw) (3.0.4)\n",
            "Installing collected packages: websocket-client, update-checker, prawcore, praw\n",
            "Successfully installed praw-7.5.0 prawcore-2.3.0 update-checker-0.18.0 websocket-client-1.3.2\n",
            "Collecting psaw\n",
            "  Downloading psaw-0.1.0-py3-none-any.whl (15 kB)\n",
            "Requirement already satisfied: requests in /usr/local/lib/python3.7/dist-packages (from psaw) (2.23.0)\n",
            "Requirement already satisfied: Click in /usr/local/lib/python3.7/dist-packages (from psaw) (7.1.2)\n",
            "Requirement already satisfied: chardet<4,>=3.0.2 in /usr/local/lib/python3.7/dist-packages (from requests->psaw) (3.0.4)\n",
            "Requirement already satisfied: certifi>=2017.4.17 in /usr/local/lib/python3.7/dist-packages (from requests->psaw) (2021.10.8)\n",
            "Requirement already satisfied: urllib3!=1.25.0,!=1.25.1,<1.26,>=1.21.1 in /usr/local/lib/python3.7/dist-packages (from requests->psaw) (1.24.3)\n",
            "Requirement already satisfied: idna<3,>=2.5 in /usr/local/lib/python3.7/dist-packages (from requests->psaw) (2.10)\n",
            "Installing collected packages: psaw\n",
            "Successfully installed psaw-0.1.0\n",
            "Collecting pmaw\n",
            "  Downloading pmaw-2.1.3-py3-none-any.whl (25 kB)\n",
            "Requirement already satisfied: requests in /usr/local/lib/python3.7/dist-packages (from pmaw) (2.23.0)\n",
            "Requirement already satisfied: praw in /usr/local/lib/python3.7/dist-packages (from pmaw) (7.5.0)\n",
            "Requirement already satisfied: prawcore<3,>=2.1 in /usr/local/lib/python3.7/dist-packages (from praw->pmaw) (2.3.0)\n",
            "Requirement already satisfied: update-checker>=0.18 in /usr/local/lib/python3.7/dist-packages (from praw->pmaw) (0.18.0)\n",
            "Requirement already satisfied: websocket-client>=0.54.0 in /usr/local/lib/python3.7/dist-packages (from praw->pmaw) (1.3.2)\n",
            "Requirement already satisfied: certifi>=2017.4.17 in /usr/local/lib/python3.7/dist-packages (from requests->pmaw) (2021.10.8)\n",
            "Requirement already satisfied: idna<3,>=2.5 in /usr/local/lib/python3.7/dist-packages (from requests->pmaw) (2.10)\n",
            "Requirement already satisfied: chardet<4,>=3.0.2 in /usr/local/lib/python3.7/dist-packages (from requests->pmaw) (3.0.4)\n",
            "Requirement already satisfied: urllib3!=1.25.0,!=1.25.1,<1.26,>=1.21.1 in /usr/local/lib/python3.7/dist-packages (from requests->pmaw) (1.24.3)\n",
            "Installing collected packages: pmaw\n",
            "Successfully installed pmaw-2.1.3\n"
          ]
        }
      ]
    },
    {
      "cell_type": "code",
      "execution_count": null,
      "metadata": {
        "colab": {
          "base_uri": "https://localhost:8080/"
        },
        "id": "PPzIyg4WaKtI",
        "outputId": "8e44607f-c156-400e-af72-cb1847c98e95"
      },
      "outputs": [
        {
          "output_type": "stream",
          "name": "stdout",
          "text": [
            "Libraries Imported\n"
          ]
        }
      ],
      "source": [
        "import numpy as np\n",
        "import pandas as pd\n",
        "import praw\n",
        "from praw.models import MoreComments\n",
        "from nltk.corpus import stopwords\n",
        "from nltk.tokenize import RegexpTokenizer\n",
        "from nltk.stem import WordNetLemmatizer\n",
        "from nltk.stem import PorterStemmer\n",
        "from nltk import FreqDist\n",
        "#import emoji\n",
        "import re\n",
        "import seaborn as sns\n",
        "import pmaw\n",
        "from pmaw import PushshiftAPI\n",
        "import timeit\n",
        "import requests\n",
        "\n",
        "print('Libraries Imported')"
      ]
    },
    {
      "cell_type": "code",
      "source": [
        "reddit = praw.Reddit(client_id = 'bNcar4az2yBMIJ8yy6QiGQ', client_secret = 'PJlkh_souAGbKcq1ombUtToVod1Npg', user_agent = 'ew_artistfreq')\n",
        "print('API Authenticated')"
      ],
      "metadata": {
        "colab": {
          "base_uri": "https://localhost:8080/"
        },
        "id": "WsM9NLJPaUD0",
        "outputId": "568f2439-b32e-40f3-f288-911ec5ee7e1f"
      },
      "execution_count": null,
      "outputs": [
        {
          "output_type": "stream",
          "name": "stdout",
          "text": [
            "API Authenticated\n"
          ]
        }
      ]
    },
    {
      "cell_type": "code",
      "source": [
        "api = PushshiftAPI()"
      ],
      "metadata": {
        "id": "rXMrf49OlDI9"
      },
      "execution_count": null,
      "outputs": []
    },
    {
      "cell_type": "markdown",
      "source": [
        "https://api.pushshift.io/reddit/search/submission/?q=Drake&after=2010-01-01&before=2020-12-31&subreddit=Music\n",
        "\n",
        "https://api.pushshift.io/reddit/search/submission/?q=Taylor%20Swift&after=2010-01-01&before=2020-12-31&subreddit=Music\n",
        "\n",
        "https://api.pushshift.io/reddit/search/submission/?q=The%20Weeknd&after=2010-01-01&before=2020-12-31&subreddit=Music\n",
        "\n",
        "https://api.pushshift.io/reddit/search/submission/?q=Ariana%20Grande&after=2010-01-01&before=2020-12-31&subreddit=Music\n",
        "\n",
        "https://api.pushshift.io/reddit/search/submission/?q=J.%20Cole&after=2010-01-01&before=2020-12-31&subreddit=Music\n",
        "\n",
        "https://api.pushshift.io/reddit/search/submission/?q=Glee%20Cast&after=2010-01-01&before=2020-12-31&subreddit=Music"
      ],
      "metadata": {
        "id": "6dNwVC2uxAdw"
      }
    },
    {
      "cell_type": "code",
      "source": [
        "import json\n",
        "import csv\n",
        "import datetime\n"
      ],
      "metadata": {
        "id": "3uCYN3wRyheM"
      },
      "execution_count": null,
      "outputs": []
    },
    {
      "cell_type": "code",
      "source": [
        "#Adapted from this https://gist.github.com/dylankilkenny/3dbf6123527260165f8c5c3bc3ee331b\n",
        "#This function builds an Pushshift URL, accesses the webpage and stores JSON data in a nested list\n",
        "def getPushshiftData(query, after, before, sub):\n",
        "    #Build URL\n",
        "    url = 'https://api.pushshift.io/reddit/search/submission/?title='+str(query)+'&size=10000&after='+str(after)+'&before='+str(before)+'&subreddit='+str(sub)\n",
        "    #Print URL to show user\n",
        "    print(url)\n",
        "    #Request URL\n",
        "    r = requests.get(url)\n",
        "    #Load JSON data from webpage into data variable\n",
        "    data = json.loads(r.text)\n",
        "    #return the data element which contains all the submissions data\n",
        "    return data['data']"
      ],
      "metadata": {
        "id": "XEgfXR2_w_72"
      },
      "execution_count": null,
      "outputs": []
    },
    {
      "cell_type": "code",
      "source": [
        "#This function will be used to extract the key data points from each JSON result\n",
        "def collectSubData(subm):\n",
        "    #subData was created at the start to hold all the data which is then added to our global subStats dictionary.\n",
        "    subData = list() #list to store data points\n",
        "    title = subm['title']\n",
        "    url = subm['url']\n",
        "    #flairs are not always present so we wrap in try/except\n",
        "    try:\n",
        "        flair = subm['link_flair_text']\n",
        "    except KeyError:\n",
        "        flair = \"NaN\"    \n",
        "    author = subm['author']\n",
        "    sub_id = subm['id']\n",
        "    score = subm['score']\n",
        "    created = datetime.datetime.fromtimestamp(subm['created_utc']) #1520561700.0\n",
        "    numComms = subm['num_comments']\n",
        "    permalink = subm['permalink']\n",
        "\n",
        "    #Put all data points into a tuple and append to subData\n",
        "    subData.append((sub_id,title,url,author,score,created,numComms,permalink,flair))\n",
        "    #Create a dictionary entry of current submission data and store all data related to it\n",
        "    subStats[sub_id] = subData"
      ],
      "metadata": {
        "id": "MiMyGzrgqKFq"
      },
      "execution_count": null,
      "outputs": []
    },
    {
      "cell_type": "code",
      "source": [
        "#Create your timestamps and queries for your search URL\n",
        "after = \"2010-01-01\" \n",
        "before = \"2020-12-31\" \n",
        "query = \"Drake\" \n",
        "sub = \"Music\"\n",
        "\n",
        "#subCount tracks the no. of total submissions we collect\n",
        "subCount = 0\n",
        "#subStats is the dictionary where we will store our data.\n",
        "subStats = {}"
      ],
      "metadata": {
        "id": "icIBp2QxzCgI"
      },
      "execution_count": null,
      "outputs": []
    },
    {
      "cell_type": "code",
      "source": [
        "data = getPushshiftData(query, after, before, sub)\n",
        "# Will run until all posts have been gathered i.e. When the length of data variable = 0\n",
        "# from the 'after' date up until before date\n",
        "while len(data) > 0: #The length of data is the number submissions (data[0], data[1] etc), once it hits zero (after and before vars are the same) end\n",
        "    try:\n",
        "      for submission in data:\n",
        "          collectSubData(submission)\n",
        "          subCount+=1\n",
        "    # Calls getPushshiftData() with the created date of the last submission\n",
        "      print(len(data))\n",
        "      print(str(datetime.datetime.fromtimestamp(data[-1]['created_utc'])))\n",
        "    #update after variable to last created date of submission\n",
        "      after = data[-1]['created_utc']\n",
        "    #data has changed due to the new after variable provided by above code\n",
        "      data = getPushshiftData(query, after, before, sub)\n",
        "    except:\n",
        "      pass\n",
        "print(len(data))"
      ],
      "metadata": {
        "colab": {
          "base_uri": "https://localhost:8080/"
        },
        "id": "o4KiWgclAFPc",
        "outputId": "219b27a0-4936-41e6-e86d-5abc39e0dbe0"
      },
      "execution_count": null,
      "outputs": [
        {
          "output_type": "stream",
          "name": "stdout",
          "text": [
            "https://api.pushshift.io/reddit/search/submission/?title=Drake&size=10000&after=2010-01-01&before=2020-12-31&subreddit=Music\n",
            "100\n",
            "2010-07-16 11:24:42\n",
            "https://api.pushshift.io/reddit/search/submission/?title=Drake&size=10000&after=1279279482&before=2020-12-31&subreddit=Music\n",
            "100\n",
            "2010-11-17 14:15:33\n",
            "https://api.pushshift.io/reddit/search/submission/?title=Drake&size=10000&after=1290003333&before=2020-12-31&subreddit=Music\n",
            "100\n",
            "2011-06-28 14:27:38\n",
            "https://api.pushshift.io/reddit/search/submission/?title=Drake&size=10000&after=1309271258&before=2020-12-31&subreddit=Music\n",
            "100\n",
            "2011-11-07 15:08:20\n",
            "https://api.pushshift.io/reddit/search/submission/?title=Drake&size=10000&after=1320678500&before=2020-12-31&subreddit=Music\n",
            "100\n",
            "2011-12-18 12:20:55\n",
            "https://api.pushshift.io/reddit/search/submission/?title=Drake&size=10000&after=1324210855&before=2020-12-31&subreddit=Music\n",
            "100\n",
            "2012-02-05 03:47:37\n",
            "https://api.pushshift.io/reddit/search/submission/?title=Drake&size=10000&after=1328413657&before=2020-12-31&subreddit=Music\n",
            "100\n",
            "2012-04-17 17:12:34\n",
            "https://api.pushshift.io/reddit/search/submission/?title=Drake&size=10000&after=1334682754&before=2020-12-31&subreddit=Music\n",
            "100\n",
            "2012-06-15 01:49:01\n",
            "https://api.pushshift.io/reddit/search/submission/?title=Drake&size=10000&after=1339724941&before=2020-12-31&subreddit=Music\n",
            "100\n",
            "2012-09-05 03:17:26\n",
            "https://api.pushshift.io/reddit/search/submission/?title=Drake&size=10000&after=1346815046&before=2020-12-31&subreddit=Music\n",
            "100\n",
            "2012-11-25 23:14:42\n",
            "https://api.pushshift.io/reddit/search/submission/?title=Drake&size=10000&after=1353885282&before=2020-12-31&subreddit=Music\n",
            "100\n",
            "2014-02-20 05:40:12\n",
            "https://api.pushshift.io/reddit/search/submission/?title=Drake&size=10000&after=1392874812&before=2020-12-31&subreddit=Music\n",
            "100\n",
            "2014-05-19 01:08:19\n",
            "https://api.pushshift.io/reddit/search/submission/?title=Drake&size=10000&after=1400461699&before=2020-12-31&subreddit=Music\n",
            "100\n",
            "2014-10-14 18:17:22\n",
            "https://api.pushshift.io/reddit/search/submission/?title=Drake&size=10000&after=1413310642&before=2020-12-31&subreddit=Music\n",
            "100\n",
            "2015-01-13 19:59:42\n",
            "https://api.pushshift.io/reddit/search/submission/?title=Drake&size=10000&after=1421179182&before=2020-12-31&subreddit=Music\n",
            "99\n",
            "2015-03-23 02:40:04\n",
            "https://api.pushshift.io/reddit/search/submission/?title=Drake&size=10000&after=1427078404&before=2020-12-31&subreddit=Music\n",
            "100\n",
            "2015-05-21 02:33:56\n",
            "https://api.pushshift.io/reddit/search/submission/?title=Drake&size=10000&after=1432175636&before=2020-12-31&subreddit=Music\n",
            "100\n",
            "2015-07-23 22:18:44\n",
            "https://api.pushshift.io/reddit/search/submission/?title=Drake&size=10000&after=1437689924&before=2020-12-31&subreddit=Music\n",
            "100\n",
            "2015-08-12 00:56:37\n",
            "https://api.pushshift.io/reddit/search/submission/?title=Drake&size=10000&after=1439340997&before=2020-12-31&subreddit=Music\n",
            "100\n",
            "2015-09-21 15:03:05\n",
            "https://api.pushshift.io/reddit/search/submission/?title=Drake&size=10000&after=1442847785&before=2020-12-31&subreddit=Music\n",
            "100\n",
            "2015-10-23 00:17:08\n",
            "https://api.pushshift.io/reddit/search/submission/?title=Drake&size=10000&after=1445559428&before=2020-12-31&subreddit=Music\n",
            "100\n",
            "2015-12-04 23:59:01\n",
            "https://api.pushshift.io/reddit/search/submission/?title=Drake&size=10000&after=1449273541&before=2020-12-31&subreddit=Music\n",
            "100\n",
            "2016-02-01 02:13:36\n",
            "https://api.pushshift.io/reddit/search/submission/?title=Drake&size=10000&after=1454292816&before=2020-12-31&subreddit=Music\n",
            "100\n",
            "2016-03-22 08:53:47\n",
            "https://api.pushshift.io/reddit/search/submission/?title=Drake&size=10000&after=1458636827&before=2020-12-31&subreddit=Music\n",
            "100\n",
            "2016-04-12 08:51:31\n",
            "https://api.pushshift.io/reddit/search/submission/?title=Drake&size=10000&after=1460451091&before=2020-12-31&subreddit=Music\n",
            "100\n",
            "2016-04-30 18:15:40\n",
            "https://api.pushshift.io/reddit/search/submission/?title=Drake&size=10000&after=1462040140&before=2020-12-31&subreddit=Music\n",
            "100\n",
            "2016-05-16 17:13:10\n",
            "https://api.pushshift.io/reddit/search/submission/?title=Drake&size=10000&after=1463418790&before=2020-12-31&subreddit=Music\n",
            "100\n",
            "2016-06-08 14:46:41\n",
            "https://api.pushshift.io/reddit/search/submission/?title=Drake&size=10000&after=1465397201&before=2020-12-31&subreddit=Music\n",
            "100\n",
            "2016-07-17 12:00:37\n",
            "https://api.pushshift.io/reddit/search/submission/?title=Drake&size=10000&after=1468756837&before=2020-12-31&subreddit=Music\n",
            "100\n",
            "2016-08-17 23:48:13\n",
            "https://api.pushshift.io/reddit/search/submission/?title=Drake&size=10000&after=1471477693&before=2020-12-31&subreddit=Music\n",
            "100\n",
            "2016-10-10 13:25:38\n",
            "https://api.pushshift.io/reddit/search/submission/?title=Drake&size=10000&after=1476105938&before=2020-12-31&subreddit=Music\n",
            "100\n",
            "2016-11-15 04:49:23\n",
            "https://api.pushshift.io/reddit/search/submission/?title=Drake&size=10000&after=1479185363&before=2020-12-31&subreddit=Music\n",
            "100\n",
            "2016-12-26 16:58:09\n",
            "https://api.pushshift.io/reddit/search/submission/?title=Drake&size=10000&after=1482771489&before=2020-12-31&subreddit=Music\n",
            "100\n",
            "2017-02-09 10:53:34\n",
            "https://api.pushshift.io/reddit/search/submission/?title=Drake&size=10000&after=1486637614&before=2020-12-31&subreddit=Music\n",
            "100\n",
            "2017-03-19 03:57:41\n",
            "https://api.pushshift.io/reddit/search/submission/?title=Drake&size=10000&after=1489895861&before=2020-12-31&subreddit=Music\n",
            "100\n",
            "2017-04-10 17:58:17\n",
            "https://api.pushshift.io/reddit/search/submission/?title=Drake&size=10000&after=1491847097&before=2020-12-31&subreddit=Music\n",
            "100\n",
            "2017-05-31 16:29:37\n",
            "https://api.pushshift.io/reddit/search/submission/?title=Drake&size=10000&after=1496248177&before=2020-12-31&subreddit=Music\n",
            "100\n",
            "2017-09-02 15:05:42\n",
            "https://api.pushshift.io/reddit/search/submission/?title=Drake&size=10000&after=1504364742&before=2020-12-31&subreddit=Music\n",
            "100\n",
            "2017-12-27 21:07:56\n",
            "https://api.pushshift.io/reddit/search/submission/?title=Drake&size=10000&after=1514408876&before=2020-12-31&subreddit=Music\n",
            "100\n",
            "2018-02-21 23:22:04\n",
            "https://api.pushshift.io/reddit/search/submission/?title=Drake&size=10000&after=1519255324&before=2020-12-31&subreddit=Music\n",
            "100\n",
            "2018-04-13 17:50:35\n",
            "https://api.pushshift.io/reddit/search/submission/?title=Drake&size=10000&after=1523641835&before=2020-12-31&subreddit=Music\n",
            "100\n",
            "2018-06-05 17:17:26\n",
            "https://api.pushshift.io/reddit/search/submission/?title=Drake&size=10000&after=1528219046&before=2020-12-31&subreddit=Music\n",
            "100\n",
            "2018-07-03 05:38:35\n",
            "https://api.pushshift.io/reddit/search/submission/?title=Drake&size=10000&after=1530596315&before=2020-12-31&subreddit=Music\n",
            "100\n",
            "2018-08-03 03:19:50\n",
            "https://api.pushshift.io/reddit/search/submission/?title=Drake&size=10000&after=1533266390&before=2020-12-31&subreddit=Music\n",
            "97\n",
            "2018-09-07 00:45:28\n",
            "https://api.pushshift.io/reddit/search/submission/?title=Drake&size=10000&after=1536281128&before=2020-12-31&subreddit=Music\n",
            "100\n",
            "2018-10-15 16:43:07\n",
            "https://api.pushshift.io/reddit/search/submission/?title=Drake&size=10000&after=1539621787&before=2020-12-31&subreddit=Music\n",
            "100\n",
            "2018-12-11 03:23:45\n",
            "https://api.pushshift.io/reddit/search/submission/?title=Drake&size=10000&after=1544498625&before=2020-12-31&subreddit=Music\n",
            "100\n",
            "2019-02-07 02:35:08\n",
            "https://api.pushshift.io/reddit/search/submission/?title=Drake&size=10000&after=1549506908&before=2020-12-31&subreddit=Music\n",
            "100\n",
            "2019-04-08 15:28:42\n",
            "https://api.pushshift.io/reddit/search/submission/?title=Drake&size=10000&after=1554737322&before=2020-12-31&subreddit=Music\n",
            "100\n",
            "2019-06-15 17:43:16\n",
            "https://api.pushshift.io/reddit/search/submission/?title=Drake&size=10000&after=1560620596&before=2020-12-31&subreddit=Music\n",
            "100\n",
            "2019-09-11 11:53:14\n",
            "https://api.pushshift.io/reddit/search/submission/?title=Drake&size=10000&after=1568202794&before=2020-12-31&subreddit=Music\n",
            "100\n",
            "2019-11-22 02:57:13\n",
            "https://api.pushshift.io/reddit/search/submission/?title=Drake&size=10000&after=1574391433&before=2020-12-31&subreddit=Music\n",
            "100\n",
            "2020-01-24 01:01:43\n",
            "https://api.pushshift.io/reddit/search/submission/?title=Drake&size=10000&after=1579827703&before=2020-12-31&subreddit=Music\n",
            "100\n",
            "2020-04-03 08:42:39\n",
            "https://api.pushshift.io/reddit/search/submission/?title=Drake&size=10000&after=1585903359&before=2020-12-31&subreddit=Music\n",
            "100\n",
            "2020-05-13 07:51:59\n",
            "https://api.pushshift.io/reddit/search/submission/?title=Drake&size=10000&after=1589356319&before=2020-12-31&subreddit=Music\n",
            "100\n",
            "2020-07-26 08:23:13\n",
            "https://api.pushshift.io/reddit/search/submission/?title=Drake&size=10000&after=1595751793&before=2020-12-31&subreddit=Music\n",
            "100\n",
            "2020-09-08 18:00:52\n",
            "https://api.pushshift.io/reddit/search/submission/?title=Drake&size=10000&after=1599588052&before=2020-12-31&subreddit=Music\n",
            "100\n",
            "2020-11-20 18:34:24\n",
            "https://api.pushshift.io/reddit/search/submission/?title=Drake&size=10000&after=1605897264&before=2020-12-31&subreddit=Music\n",
            "94\n",
            "2020-12-30 21:46:55\n",
            "https://api.pushshift.io/reddit/search/submission/?title=Drake&size=10000&after=1609364815&before=2020-12-31&subreddit=Music\n",
            "0\n"
          ]
        }
      ]
    },
    {
      "cell_type": "code",
      "source": [
        "def updateSubs_file():\n",
        "    upload_count = 0\n",
        "    print(\"input filename of submission file, please add .csv\")\n",
        "    filename = input() #This asks the user what to name the file\n",
        "    file = filename\n",
        "    with open(file, 'w', newline='', encoding='utf-8') as file: \n",
        "        a = csv.writer(file, delimiter=',')\n",
        "        headers = [\"Post ID\",\"Title\",\"Url\",\"Author\",\"Score\",\"Publish Date\",\"Total No. of Comments\",\"Permalink\",\"Flair\"]\n",
        "        a.writerow(headers)\n",
        "        for sub in subStats:\n",
        "            a.writerow(subStats[sub][0])\n",
        "            upload_count+=1\n",
        "            \n",
        "        print(str(upload_count) + \" submissions have been uploaded\")\n",
        "updateSubs_file()"
      ],
      "metadata": {
        "colab": {
          "base_uri": "https://localhost:8080/"
        },
        "id": "FcvV6SCTAoP1",
        "outputId": "e195e95a-4ec1-4b14-9987-e26beb451f95"
      },
      "execution_count": null,
      "outputs": [
        {
          "output_type": "stream",
          "name": "stdout",
          "text": [
            "input filename of submission file, please add .csv\n",
            "glee.csv\n",
            "309 submissions have been uploaded\n"
          ]
        }
      ]
    },
    {
      "cell_type": "code",
      "source": [
        "#Create your timestamps and queries for your search URL\n",
        "after = \"2010-01-01\" \n",
        "before = \"2020-12-31\" \n",
        "query = \"Taylor Swift\" #Keyword(s) to look for in submissions\n",
        "sub = \"Music\" #Which Subreddit to search in\n",
        "\n",
        "#subCount tracks the no. of total submissions we collect\n",
        "subCount = 0\n",
        "#subStats is the dictionary where we will store our data.\n",
        "subStats = {}\n",
        "data = getPushshiftData(query, after, before, sub)\n",
        "# Will run until all posts have been gathered i.e. When the length of data variable = 0\n",
        "# from the 'after' date up until before date\n",
        "while len(data) > 0: #The length of data is the number submissions (data[0], data[1] etc), once it hits zero (after and before vars are the same) end\n",
        "    try:\n",
        "      for submission in data:\n",
        "          collectSubData(submission)\n",
        "          subCount+=1\n",
        "    # Calls getPushshiftData() with the created date of the last submission\n",
        "      print(len(data))\n",
        "      print(str(datetime.datetime.fromtimestamp(data[-1]['created_utc'])))\n",
        "    #update after variable to last created date of submission\n",
        "      after = data[-1]['created_utc']\n",
        "    #data has changed due to the new after variable provided by above code\n",
        "      data = getPushshiftData(query, after, before, sub)\n",
        "    except:\n",
        "      pass\n",
        "print(len(data))"
      ],
      "metadata": {
        "id": "7XJlXAQFA3tv"
      },
      "execution_count": null,
      "outputs": []
    },
    {
      "cell_type": "code",
      "source": [
        "updateSubs_file()"
      ],
      "metadata": {
        "colab": {
          "base_uri": "https://localhost:8080/"
        },
        "id": "VPbvR3vNBMK6",
        "outputId": "1e497432-76f9-45a1-ac1e-7bd90dddbab5"
      },
      "execution_count": null,
      "outputs": [
        {
          "output_type": "stream",
          "name": "stdout",
          "text": [
            "input filename of submission file, please add .csv\n",
            "taylor_reddit.csv\n",
            "3512 submissions have been uploaded\n"
          ]
        }
      ]
    },
    {
      "cell_type": "code",
      "source": [
        "#Create your timestamps and queries for your search URL\n",
        "after = \"2010-01-01\"\n",
        "before = \"2020-12-31\" \n",
        "query = \"J. Cole\" #Keyword(s) to look for in submissions\n",
        "sub = \"Music\" #Which Subreddit to search in\n",
        "\n",
        "#subCount tracks the no. of total submissions we collect\n",
        "subCount = 0\n",
        "#subStats is the dictionary where we will store our data.\n",
        "subStats = {}\n",
        "data = getPushshiftData(query, after, before, sub)\n",
        "# Will run until all posts have been gathered i.e. When the length of data variable = 0\n",
        "# from the 'after' date up until before date\n",
        "while len(data) > 0: #The length of data is the number submissions (data[0], data[1] etc), once it hits zero (after and before vars are the same) end\n",
        "    try:\n",
        "      for submission in data:\n",
        "          collectSubData(submission)\n",
        "          subCount+=1\n",
        "    # Calls getPushshiftData() with the created date of the last submission\n",
        "      print(len(data))\n",
        "      print(str(datetime.datetime.fromtimestamp(data[-1]['created_utc'])))\n",
        "    #update after variable to last created date of submission\n",
        "      after = data[-1]['created_utc']\n",
        "    #data has changed due to the new after variable provided by above code\n",
        "      data = getPushshiftData(query, after, before, sub)\n",
        "    except:\n",
        "      pass\n",
        "print(len(data))"
      ],
      "metadata": {
        "id": "WVEK9QtrBnn-"
      },
      "execution_count": null,
      "outputs": []
    },
    {
      "cell_type": "code",
      "source": [
        "updateSubs_file()"
      ],
      "metadata": {
        "colab": {
          "base_uri": "https://localhost:8080/"
        },
        "id": "mYV0QRwBB7Yg",
        "outputId": "749f1005-59b9-4a0b-fbdd-6ecf9196f63d"
      },
      "execution_count": null,
      "outputs": [
        {
          "output_type": "stream",
          "name": "stdout",
          "text": [
            "input filename of submission file, please add .csv\n",
            "jcole_reddit.csv\n",
            "872 submissions have been uploaded\n"
          ]
        }
      ]
    },
    {
      "cell_type": "code",
      "source": [
        "#Create your timestamps and queries for your search URL\n",
        "after = \"2010-01-01\" \n",
        "before = \"2020-12-31\" \n",
        "query = \"Glee\" #Keyword(s) to look for in submissions\n",
        "sub = \"Music\" #Which Subreddit to search in\n",
        "\n",
        "#subCount tracks the no. of total submissions we collect\n",
        "subCount = 0\n",
        "#subStats is the dictionary where we will store our data.\n",
        "subStats = {}\n",
        "data = getPushshiftData(query, after, before, sub)\n",
        "# Will run until all posts have been gathered i.e. When the length of data variable = 0\n",
        "# from the 'after' date up until before date\n",
        "while len(data) > 0: #The length of data is the number submissions (data[0], data[1] etc), once it hits zero (after and before vars are the same) end\n",
        "    try:\n",
        "      for submission in data:\n",
        "          collectSubData(submission)\n",
        "          subCount+=1\n",
        "    # Calls getPushshiftData() with the created date of the last submission\n",
        "      print(len(data))\n",
        "      print(str(datetime.datetime.fromtimestamp(data[-1]['created_utc'])))\n",
        "    #update after variable to last created date of submission\n",
        "      after = data[-1]['created_utc']\n",
        "    #data has changed due to the new after variable provided by above code\n",
        "      data = getPushshiftData(query, after, before, sub)\n",
        "    except:\n",
        "      pass\n",
        "print(len(data))"
      ],
      "metadata": {
        "colab": {
          "base_uri": "https://localhost:8080/"
        },
        "id": "Xah8iwp2CD2_",
        "outputId": "c279f1ad-421a-415d-8324-0f12225f647d"
      },
      "execution_count": null,
      "outputs": [
        {
          "output_type": "stream",
          "name": "stdout",
          "text": [
            "https://api.pushshift.io/reddit/search/submission/?title=Glee&size=10000&after=2010-01-01&before=2020-12-31&subreddit=Music\n",
            "100\n",
            "2011-03-21 02:53:54\n",
            "https://api.pushshift.io/reddit/search/submission/?title=Glee&size=10000&after=1300676034&before=2020-12-31&subreddit=Music\n",
            "100\n",
            "2012-04-21 23:13:12\n",
            "https://api.pushshift.io/reddit/search/submission/?title=Glee&size=10000&after=1335049992&before=2020-12-31&subreddit=Music\n",
            "100\n",
            "2020-08-08 22:19:27\n",
            "https://api.pushshift.io/reddit/search/submission/?title=Glee&size=10000&after=1596925167&before=2020-12-31&subreddit=Music\n",
            "9\n",
            "2020-12-24 20:34:02\n",
            "https://api.pushshift.io/reddit/search/submission/?title=Glee&size=10000&after=1608842042&before=2020-12-31&subreddit=Music\n",
            "0\n"
          ]
        }
      ]
    },
    {
      "cell_type": "code",
      "source": [
        "updateSubs_file()"
      ],
      "metadata": {
        "colab": {
          "base_uri": "https://localhost:8080/",
          "height": 166
        },
        "id": "lm1Esc-QCPp2",
        "outputId": "0e4cdecf-7eec-49bb-cda1-977e31e22957"
      },
      "execution_count": null,
      "outputs": [
        {
          "output_type": "error",
          "ename": "NameError",
          "evalue": "ignored",
          "traceback": [
            "\u001b[0;31m---------------------------------------------------------------------------\u001b[0m",
            "\u001b[0;31mNameError\u001b[0m                                 Traceback (most recent call last)",
            "\u001b[0;32m<ipython-input-9-c0ba3ead2319>\u001b[0m in \u001b[0;36m<module>\u001b[0;34m()\u001b[0m\n\u001b[0;32m----> 1\u001b[0;31m \u001b[0mupdateSubs_file\u001b[0m\u001b[0;34m(\u001b[0m\u001b[0;34m)\u001b[0m\u001b[0;34m\u001b[0m\u001b[0;34m\u001b[0m\u001b[0m\n\u001b[0m",
            "\u001b[0;31mNameError\u001b[0m: name 'updateSubs_file' is not defined"
          ]
        }
      ]
    },
    {
      "cell_type": "code",
      "source": [
        "#Create your timestamps and queries for your search URL\n",
        "after = \"2010-01-01\" \n",
        "before = \"2020-12-31\" \n",
        "query = \"The Weeknd\" #Keyword(s) to look for in submissions\n",
        "sub = \"Music\" #Which Subreddit to search in\n",
        "\n",
        "#subCount tracks the no. of total submissions we collect\n",
        "subCount = 0\n",
        "#subStats is the dictionary where we will store our data.\n",
        "subStats = {}\n",
        "data = getPushshiftData(query, after, before, sub)\n",
        "# Will run until all posts have been gathered i.e. When the length of data variable = 0\n",
        "# from the 'after' date up until before date\n",
        "while len(data) > 0: #The length of data is the number submissions (data[0], data[1] etc), once it hits zero (after and before vars are the same) end\n",
        "    try:\n",
        "      for submission in data:\n",
        "          collectSubData(submission)\n",
        "          subCount+=1\n",
        "    # Calls getPushshiftData() with the created date of the last submission\n",
        "      print(len(data))\n",
        "      print(str(datetime.datetime.fromtimestamp(data[-1]['created_utc'])))\n",
        "    #update after variable to last created date of submission\n",
        "      after = data[-1]['created_utc']\n",
        "    #data has changed due to the new after variable provided by above code\n",
        "      data = getPushshiftData(query, after, before, sub)\n",
        "    except:\n",
        "      pass\n",
        "print(len(data))"
      ],
      "metadata": {
        "colab": {
          "base_uri": "https://localhost:8080/"
        },
        "id": "02rJabjMCTHI",
        "outputId": "cd1c46db-3910-4db1-8579-e1661a5b96fa"
      },
      "execution_count": null,
      "outputs": [
        {
          "output_type": "stream",
          "name": "stdout",
          "text": [
            "https://api.pushshift.io/reddit/search/submission/?title=The Weeknd&size=1000&after=2010-01-01&before=2020-12-31&subreddit=Music\n",
            "100\n",
            "2011-12-21 05:33:09\n",
            "https://api.pushshift.io/reddit/search/submission/?title=The Weeknd&size=1000&after=1324445589&before=2020-12-31&subreddit=Music\n",
            "100\n",
            "2012-04-10 02:29:10\n",
            "https://api.pushshift.io/reddit/search/submission/?title=The Weeknd&size=1000&after=1334024950&before=2020-12-31&subreddit=Music\n",
            "100\n",
            "2012-11-05 21:31:05\n",
            "https://api.pushshift.io/reddit/search/submission/?title=The Weeknd&size=1000&after=1352151065&before=2020-12-31&subreddit=Music\n",
            "100\n",
            "2014-08-11 16:59:53\n",
            "https://api.pushshift.io/reddit/search/submission/?title=The Weeknd&size=1000&after=1407776393&before=2020-12-31&subreddit=Music\n",
            "100\n",
            "2015-05-26 05:21:35\n",
            "https://api.pushshift.io/reddit/search/submission/?title=The Weeknd&size=1000&after=1432617695&before=2020-12-31&subreddit=Music\n",
            "100\n",
            "2015-08-03 17:55:31\n",
            "https://api.pushshift.io/reddit/search/submission/?title=The Weeknd&size=1000&after=1438624531&before=2020-12-31&subreddit=Music\n",
            "100\n",
            "2015-09-22 17:32:09\n",
            "https://api.pushshift.io/reddit/search/submission/?title=The Weeknd&size=1000&after=1442943129&before=2020-12-31&subreddit=Music\n",
            "100\n",
            "2015-10-30 03:28:14\n",
            "https://api.pushshift.io/reddit/search/submission/?title=The Weeknd&size=1000&after=1446175694&before=2020-12-31&subreddit=Music\n",
            "100\n",
            "2016-03-06 05:19:15\n",
            "https://api.pushshift.io/reddit/search/submission/?title=The Weeknd&size=1000&after=1457241555&before=2020-12-31&subreddit=Music\n",
            "100\n",
            "2016-09-04 17:40:59\n",
            "https://api.pushshift.io/reddit/search/submission/?title=The Weeknd&size=1000&after=1473010859&before=2020-12-31&subreddit=Music\n",
            "100\n",
            "2016-10-21 03:56:12\n",
            "https://api.pushshift.io/reddit/search/submission/?title=The Weeknd&size=1000&after=1477022172&before=2020-12-31&subreddit=Music\n",
            "100\n",
            "2016-11-29 23:06:17\n",
            "https://api.pushshift.io/reddit/search/submission/?title=The Weeknd&size=1000&after=1480460777&before=2020-12-31&subreddit=Music\n",
            "100\n",
            "2017-01-23 20:58:16\n",
            "https://api.pushshift.io/reddit/search/submission/?title=The Weeknd&size=1000&after=1485205096&before=2020-12-31&subreddit=Music\n",
            "100\n",
            "2017-03-30 20:07:57\n",
            "https://api.pushshift.io/reddit/search/submission/?title=The Weeknd&size=1000&after=1490904477&before=2020-12-31&subreddit=Music\n",
            "99\n",
            "2017-08-25 00:03:40\n",
            "https://api.pushshift.io/reddit/search/submission/?title=The Weeknd&size=1000&after=1503619420&before=2020-12-31&subreddit=Music\n",
            "100\n",
            "2018-04-03 20:46:19\n",
            "https://api.pushshift.io/reddit/search/submission/?title=The Weeknd&size=1000&after=1522788379&before=2020-12-31&subreddit=Music\n",
            "100\n",
            "2019-01-02 17:51:33\n",
            "https://api.pushshift.io/reddit/search/submission/?title=The Weeknd&size=1000&after=1546451493&before=2020-12-31&subreddit=Music\n",
            "100\n",
            "2019-11-27 08:14:10\n",
            "https://api.pushshift.io/reddit/search/submission/?title=The Weeknd&size=1000&after=1574842450&before=2020-12-31&subreddit=Music\n",
            "100\n",
            "2020-03-20 13:59:13\n",
            "https://api.pushshift.io/reddit/search/submission/?title=The Weeknd&size=1000&after=1584712753&before=2020-12-31&subreddit=Music\n",
            "100\n",
            "2020-05-07 14:58:16\n",
            "https://api.pushshift.io/reddit/search/submission/?title=The Weeknd&size=1000&after=1588863496&before=2020-12-31&subreddit=Music\n",
            "100\n",
            "2020-08-08 01:43:16\n",
            "https://api.pushshift.io/reddit/search/submission/?title=The Weeknd&size=1000&after=1596850996&before=2020-12-31&subreddit=Music\n",
            "100\n",
            "2020-11-16 13:19:57\n",
            "https://api.pushshift.io/reddit/search/submission/?title=The Weeknd&size=1000&after=1605532797&before=2020-12-31&subreddit=Music\n",
            "46\n",
            "2020-12-30 18:23:26\n",
            "https://api.pushshift.io/reddit/search/submission/?title=The Weeknd&size=1000&after=1609352606&before=2020-12-31&subreddit=Music\n",
            "0\n"
          ]
        }
      ]
    },
    {
      "cell_type": "code",
      "source": [
        "updateSubs_file()"
      ],
      "metadata": {
        "colab": {
          "base_uri": "https://localhost:8080/"
        },
        "id": "YMJXZcHsCYX2",
        "outputId": "2b2d332d-18d5-4a55-948f-44fdf364c321"
      },
      "execution_count": null,
      "outputs": [
        {
          "output_type": "stream",
          "name": "stdout",
          "text": [
            "input filename of submission file, please add .csv\n",
            "weeknd_reddit.csv\n",
            "2245 submissions have been uploaded\n"
          ]
        }
      ]
    },
    {
      "cell_type": "code",
      "source": [
        "#Create your timestamps and queries for your search URL\n",
        "after = \"2010-01-01\" \n",
        "before = \"2020-12-31\" \n",
        "query = \"Ariana Grande\" #Keyword(s) to look for in submissions\n",
        "sub = \"Music\" #Which Subreddit to search in\n",
        "\n",
        "#subCount tracks the no. of total submissions we collect\n",
        "subCount = 0\n",
        "#subStats is the dictionary where we will store our data.\n",
        "subStats = {}\n",
        "data = getPushshiftData(query, after, before, sub)\n",
        "# Will run until all posts have been gathered i.e. When the length of data variable = 0\n",
        "# from the 'after' date up until before date\n",
        "while len(data) > 0: #The length of data is the number submissions (data[0], data[1] etc), once it hits zero (after and before vars are the same) end\n",
        "    try:\n",
        "      for submission in data:\n",
        "          collectSubData(submission)\n",
        "          subCount+=1\n",
        "    # Calls getPushshiftData() with the created date of the last submission\n",
        "      print(len(data))\n",
        "      print(str(datetime.datetime.fromtimestamp(data[-1]['created_utc'])))\n",
        "    #update after variable to last created date of submission\n",
        "      after = data[-1]['created_utc']\n",
        "    #data has changed due to the new after variable provided by above code\n",
        "      data = getPushshiftData(query, after, before, sub)\n",
        "    except:\n",
        "      pass\n",
        "print(len(data))"
      ],
      "metadata": {
        "colab": {
          "base_uri": "https://localhost:8080/"
        },
        "id": "C64R2dtQCh9t",
        "outputId": "8761817c-ea83-42e8-fe8e-64f83089e343"
      },
      "execution_count": null,
      "outputs": [
        {
          "output_type": "stream",
          "name": "stdout",
          "text": [
            "https://api.pushshift.io/reddit/search/submission/?title=Ariana Grande&size=1000&after=2010-01-01&before=2020-12-31&subreddit=Music\n",
            "100\n",
            "2014-10-21 13:58:52\n",
            "https://api.pushshift.io/reddit/search/submission/?title=Ariana Grande&size=1000&after=1413899932&before=2020-12-31&subreddit=Music\n",
            "100\n",
            "2015-06-13 08:11:53\n",
            "https://api.pushshift.io/reddit/search/submission/?title=Ariana Grande&size=1000&after=1434183113&before=2020-12-31&subreddit=Music\n",
            "100\n",
            "2016-02-09 10:43:58\n",
            "https://api.pushshift.io/reddit/search/submission/?title=Ariana Grande&size=1000&after=1455014638&before=2020-12-31&subreddit=Music\n",
            "100\n",
            "2016-05-24 23:47:40\n",
            "https://api.pushshift.io/reddit/search/submission/?title=Ariana Grande&size=1000&after=1464133660&before=2020-12-31&subreddit=Music\n",
            "100\n",
            "2016-10-10 18:17:15\n",
            "https://api.pushshift.io/reddit/search/submission/?title=Ariana Grande&size=1000&after=1476123435&before=2020-12-31&subreddit=Music\n",
            "100\n",
            "2017-05-02 22:07:12\n",
            "https://api.pushshift.io/reddit/search/submission/?title=Ariana Grande&size=1000&after=1493762832&before=2020-12-31&subreddit=Music\n",
            "100\n",
            "2017-07-18 17:05:03\n",
            "https://api.pushshift.io/reddit/search/submission/?title=Ariana Grande&size=1000&after=1500397503&before=2020-12-31&subreddit=Music\n",
            "100\n",
            "2018-06-13 16:16:01\n",
            "https://api.pushshift.io/reddit/search/submission/?title=Ariana Grande&size=1000&after=1528906561&before=2020-12-31&subreddit=Music\n",
            "98\n",
            "2018-09-08 02:18:39\n",
            "https://api.pushshift.io/reddit/search/submission/?title=Ariana Grande&size=1000&after=1536373119&before=2020-12-31&subreddit=Music\n",
            "100\n",
            "2018-11-18 15:55:20\n",
            "https://api.pushshift.io/reddit/search/submission/?title=Ariana Grande&size=1000&after=1542556520&before=2020-12-31&subreddit=Music\n",
            "100\n",
            "2019-01-21 18:58:36\n",
            "https://api.pushshift.io/reddit/search/submission/?title=Ariana Grande&size=1000&after=1548097116&before=2020-12-31&subreddit=Music\n",
            "100\n",
            "2019-03-01 09:07:10\n",
            "https://api.pushshift.io/reddit/search/submission/?title=Ariana Grande&size=1000&after=1551431230&before=2020-12-31&subreddit=Music\n",
            "100\n",
            "2019-08-13 23:34:38\n",
            "https://api.pushshift.io/reddit/search/submission/?title=Ariana Grande&size=1000&after=1565739278&before=2020-12-31&subreddit=Music\n",
            "100\n",
            "2020-02-09 17:42:01\n",
            "https://api.pushshift.io/reddit/search/submission/?title=Ariana Grande&size=1000&after=1581270121&before=2020-12-31&subreddit=Music\n",
            "99\n",
            "2020-06-29 21:42:41\n",
            "https://api.pushshift.io/reddit/search/submission/?title=Ariana Grande&size=1000&after=1593466961&before=2020-12-31&subreddit=Music\n",
            "100\n",
            "2020-11-12 14:39:34\n",
            "https://api.pushshift.io/reddit/search/submission/?title=Ariana Grande&size=1000&after=1605191974&before=2020-12-31&subreddit=Music\n",
            "88\n",
            "2020-12-30 20:15:22\n",
            "https://api.pushshift.io/reddit/search/submission/?title=Ariana Grande&size=1000&after=1609359322&before=2020-12-31&subreddit=Music\n",
            "0\n"
          ]
        }
      ]
    },
    {
      "cell_type": "code",
      "source": [
        "updateSubs_file()"
      ],
      "metadata": {
        "colab": {
          "base_uri": "https://localhost:8080/"
        },
        "id": "4k7vOpuECpO5",
        "outputId": "10ddb7af-a80b-4b7d-be69-15726e26b5fa"
      },
      "execution_count": null,
      "outputs": [
        {
          "output_type": "stream",
          "name": "stdout",
          "text": [
            "input filename of submission file, please add .csv\n",
            "ariana_reddit.csv\n",
            "1685 submissions have been uploaded\n"
          ]
        }
      ]
    },
    {
      "cell_type": "code",
      "source": [
        ""
      ],
      "metadata": {
        "id": "5CQK8bPfC210"
      },
      "execution_count": null,
      "outputs": []
    }
  ]
}
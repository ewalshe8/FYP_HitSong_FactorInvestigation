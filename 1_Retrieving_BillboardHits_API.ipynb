{
  "nbformat": 4,
  "nbformat_minor": 0,
  "metadata": {
    "colab": {
      "name": "1. Retrieving BillboardHits - API.ipynb",
      "provenance": [],
      "collapsed_sections": []
    },
    "kernelspec": {
      "name": "python3",
      "display_name": "Python 3"
    },
    "language_info": {
      "name": "python"
    }
  },
  "cells": [
    {
      "cell_type": "code",
      "execution_count": null,
      "metadata": {
        "colab": {
          "base_uri": "https://localhost:8080/"
        },
        "id": "XD3PrYtJlIwo",
        "outputId": "78eee716-abb4-4245-c597-88968ba21e51"
      },
      "outputs": [
        {
          "output_type": "stream",
          "name": "stdout",
          "text": [
            "Collecting billboard.py\n",
            "  Downloading billboard.py-7.0.0-py2.py3-none-any.whl (7.0 kB)\n",
            "Requirement already satisfied: beautifulsoup4>=4.4.1 in /usr/local/lib/python3.7/dist-packages (from billboard.py) (4.6.3)\n",
            "Requirement already satisfied: requests>=2.2.1 in /usr/local/lib/python3.7/dist-packages (from billboard.py) (2.23.0)\n",
            "Requirement already satisfied: idna<3,>=2.5 in /usr/local/lib/python3.7/dist-packages (from requests>=2.2.1->billboard.py) (2.10)\n",
            "Requirement already satisfied: certifi>=2017.4.17 in /usr/local/lib/python3.7/dist-packages (from requests>=2.2.1->billboard.py) (2021.10.8)\n",
            "Requirement already satisfied: chardet<4,>=3.0.2 in /usr/local/lib/python3.7/dist-packages (from requests>=2.2.1->billboard.py) (3.0.4)\n",
            "Requirement already satisfied: urllib3!=1.25.0,!=1.25.1,<1.26,>=1.21.1 in /usr/local/lib/python3.7/dist-packages (from requests>=2.2.1->billboard.py) (1.24.3)\n",
            "Installing collected packages: billboard.py\n",
            "Successfully installed billboard.py-7.0.0\n"
          ]
        }
      ],
      "source": [
        "!pip install billboard.py"
      ]
    },
    {
      "cell_type": "code",
      "source": [
        "import billboard as bb"
      ],
      "metadata": {
        "id": "fbNU7ooolrVJ"
      },
      "execution_count": null,
      "outputs": []
    },
    {
      "cell_type": "code",
      "source": [
        "#Retrieving the Billboard Charts from the start of every month from 1980-2020\n",
        "song_list = []\n",
        "jan = '-01-01'\n",
        "feb = '-02-01'\n",
        "mar = '-03-01'\n",
        "apr = '-04-01'\n",
        "may = '-05-01'\n",
        "jun = '-06-01'\n",
        "jul = '-07-01'\n",
        "aug = '-08-01'\n",
        "sep = '-09-01'\n",
        "oct = '-10-01'\n",
        "nov = '-11-01'\n",
        "dec = '-02-01'\n",
        "for year in range(1980,2021):\n",
        "  date_format = str(year)\n",
        "\n",
        "  song1 = bb.ChartData(name= \"hot-100\", date= date_format + jan, fetch=True, timeout=60)\n",
        "  song2 = bb.ChartData(name= \"hot-100\", date= date_format + feb, fetch=True, timeout=60)\n",
        "  song3 = bb.ChartData(name= \"hot-100\", date= date_format + mar, fetch=True, timeout=60)\n",
        "  song4 = bb.ChartData(name= \"hot-100\", date= date_format + apr, fetch=True, timeout=60)\n",
        "  song5 = bb.ChartData(name= \"hot-100\", date= date_format + may, fetch=True, timeout=60)\n",
        "  song6 = bb.ChartData(name= \"hot-100\", date= date_format + jun, fetch=True, timeout=60)\n",
        "  song7 = bb.ChartData(name= \"hot-100\", date= date_format + jul, fetch=True, timeout=60)\n",
        "  song8 = bb.ChartData(name= \"hot-100\", date= date_format + aug, fetch=True, timeout=60)\n",
        "  song9 = bb.ChartData(name= \"hot-100\", date= date_format + sep, fetch=True, timeout=60)\n",
        "  song10 = bb.ChartData(name= \"hot-100\", date= date_format + oct, fetch=True, timeout=60)\n",
        "  song11 = bb.ChartData(name= \"hot-100\", date= date_format + nov, fetch=True, timeout=60)\n",
        "  song12 = bb.ChartData(name= \"hot-100\", date= date_format + dec, fetch=True, timeout=60)\n",
        "\n",
        "  song_list.append(song1)\n",
        "  song_list.append(song2)\n",
        "  song_list.append(song3)\n",
        "  song_list.append(song4)\n",
        "  song_list.append(song5)\n",
        "  song_list.append(song6)\n",
        "  song_list.append(song7)\n",
        "  song_list.append(song8)\n",
        "  song_list.append(song9)\n",
        "  song_list.append(song10)\n",
        "  song_list.append(song11)\n",
        "  song_list.append(song12)"
      ],
      "metadata": {
        "id": "pEaXD1ZulOkx"
      },
      "execution_count": null,
      "outputs": []
    },
    {
      "cell_type": "code",
      "source": [
        "#Creating a dictionary containing the artist, song title, the rank on the billboard chart, and the data\n",
        "song_dict = dict()\n",
        "songs = []\n",
        "for song in song_list:\n",
        "    for track in song:\n",
        "        track_dictionary = {\"title\": track.title,\"artist\": track.artist,\"rank\":track.rank, \"date\": song.date}\n",
        "        songs.append(track_dictionary)"
      ],
      "metadata": {
        "id": "NZqNlExClswQ"
      },
      "execution_count": null,
      "outputs": []
    },
    {
      "cell_type": "code",
      "source": [
        "print(len(songs))"
      ],
      "metadata": {
        "colab": {
          "base_uri": "https://localhost:8080/"
        },
        "id": "4aB8jaz6m_9_",
        "outputId": "eed6d6a3-3b4a-4b58-a2f4-04e328aa6a71"
      },
      "execution_count": null,
      "outputs": [
        {
          "output_type": "stream",
          "name": "stdout",
          "text": [
            "100\n"
          ]
        }
      ]
    },
    {
      "cell_type": "code",
      "source": [
        "songs[1]"
      ],
      "metadata": {
        "colab": {
          "base_uri": "https://localhost:8080/"
        },
        "id": "ClWhUj_BnJh7",
        "outputId": "38830fea-7aa8-4fef-d454-8dc5721f3638"
      },
      "execution_count": null,
      "outputs": [
        {
          "output_type": "execute_result",
          "data": {
            "text/plain": [
              "{'artist': 'Jack Harlow',\n",
              " 'date': '2022-04-30',\n",
              " 'rank': 2,\n",
              " 'title': 'First Class'}"
            ]
          },
          "metadata": {},
          "execution_count": 6
        }
      ]
    },
    {
      "cell_type": "code",
      "source": [
        "import pandas as pd"
      ],
      "metadata": {
        "id": "o1OirkSAnuF3"
      },
      "execution_count": null,
      "outputs": []
    },
    {
      "cell_type": "code",
      "source": [
        "df = pd.DataFrame(songs)"
      ],
      "metadata": {
        "id": "4Bc4BRA5n5gb"
      },
      "execution_count": null,
      "outputs": []
    },
    {
      "cell_type": "code",
      "source": [
        "df.head(16)"
      ],
      "metadata": {
        "colab": {
          "base_uri": "https://localhost:8080/",
          "height": 551
        },
        "id": "3jEqBJ73n9qT",
        "outputId": "506ab1a0-3d23-4c6a-d05d-80008f993e22"
      },
      "execution_count": null,
      "outputs": [
        {
          "output_type": "execute_result",
          "data": {
            "text/plain": [
              "                      title                         artist  rank        date\n",
              "0                 As It Was                   Harry Styles     1  2022-04-30\n",
              "1               First Class                    Jack Harlow     2  2022-04-30\n",
              "2                Heat Waves                  Glass Animals     3  2022-04-30\n",
              "3                Big Energy                          Latto     4  2022-04-30\n",
              "4                     Enemy          Imagine Dragons X JID     5  2022-04-30\n",
              "5                      Stay  The Kid LAROI & Justin Bieber     6  2022-04-30\n",
              "6         Don't Think Jesus                  Morgan Wallen     7  2022-04-30\n",
              "7                     Woman                       Doja Cat     8  2022-04-30\n",
              "8             Super Gremlin                    Kodak Black     9  2022-04-30\n",
              "9                     Ghost                  Justin Bieber    10  2022-04-30\n",
              "10        Thats What I Want                      Lil Nas X    11  2022-04-30\n",
              "11               Bad Habits                     Ed Sheeran    12  2022-04-30\n",
              "12                  abcdefu                          GAYLE    13  2022-04-30\n",
              "13                  Shivers                     Ed Sheeran    14  2022-04-30\n",
              "14  Cold Heart (PNAU Remix)          Elton John & Dua Lipa    15  2022-04-30\n",
              "15               Easy On Me                          Adele    16  2022-04-30"
            ],
            "text/html": [
              "\n",
              "  <div id=\"df-943e4cb5-9e62-4aed-a7cc-b38a50f57afd\">\n",
              "    <div class=\"colab-df-container\">\n",
              "      <div>\n",
              "<style scoped>\n",
              "    .dataframe tbody tr th:only-of-type {\n",
              "        vertical-align: middle;\n",
              "    }\n",
              "\n",
              "    .dataframe tbody tr th {\n",
              "        vertical-align: top;\n",
              "    }\n",
              "\n",
              "    .dataframe thead th {\n",
              "        text-align: right;\n",
              "    }\n",
              "</style>\n",
              "<table border=\"1\" class=\"dataframe\">\n",
              "  <thead>\n",
              "    <tr style=\"text-align: right;\">\n",
              "      <th></th>\n",
              "      <th>title</th>\n",
              "      <th>artist</th>\n",
              "      <th>rank</th>\n",
              "      <th>date</th>\n",
              "    </tr>\n",
              "  </thead>\n",
              "  <tbody>\n",
              "    <tr>\n",
              "      <th>0</th>\n",
              "      <td>As It Was</td>\n",
              "      <td>Harry Styles</td>\n",
              "      <td>1</td>\n",
              "      <td>2022-04-30</td>\n",
              "    </tr>\n",
              "    <tr>\n",
              "      <th>1</th>\n",
              "      <td>First Class</td>\n",
              "      <td>Jack Harlow</td>\n",
              "      <td>2</td>\n",
              "      <td>2022-04-30</td>\n",
              "    </tr>\n",
              "    <tr>\n",
              "      <th>2</th>\n",
              "      <td>Heat Waves</td>\n",
              "      <td>Glass Animals</td>\n",
              "      <td>3</td>\n",
              "      <td>2022-04-30</td>\n",
              "    </tr>\n",
              "    <tr>\n",
              "      <th>3</th>\n",
              "      <td>Big Energy</td>\n",
              "      <td>Latto</td>\n",
              "      <td>4</td>\n",
              "      <td>2022-04-30</td>\n",
              "    </tr>\n",
              "    <tr>\n",
              "      <th>4</th>\n",
              "      <td>Enemy</td>\n",
              "      <td>Imagine Dragons X JID</td>\n",
              "      <td>5</td>\n",
              "      <td>2022-04-30</td>\n",
              "    </tr>\n",
              "    <tr>\n",
              "      <th>5</th>\n",
              "      <td>Stay</td>\n",
              "      <td>The Kid LAROI &amp; Justin Bieber</td>\n",
              "      <td>6</td>\n",
              "      <td>2022-04-30</td>\n",
              "    </tr>\n",
              "    <tr>\n",
              "      <th>6</th>\n",
              "      <td>Don't Think Jesus</td>\n",
              "      <td>Morgan Wallen</td>\n",
              "      <td>7</td>\n",
              "      <td>2022-04-30</td>\n",
              "    </tr>\n",
              "    <tr>\n",
              "      <th>7</th>\n",
              "      <td>Woman</td>\n",
              "      <td>Doja Cat</td>\n",
              "      <td>8</td>\n",
              "      <td>2022-04-30</td>\n",
              "    </tr>\n",
              "    <tr>\n",
              "      <th>8</th>\n",
              "      <td>Super Gremlin</td>\n",
              "      <td>Kodak Black</td>\n",
              "      <td>9</td>\n",
              "      <td>2022-04-30</td>\n",
              "    </tr>\n",
              "    <tr>\n",
              "      <th>9</th>\n",
              "      <td>Ghost</td>\n",
              "      <td>Justin Bieber</td>\n",
              "      <td>10</td>\n",
              "      <td>2022-04-30</td>\n",
              "    </tr>\n",
              "    <tr>\n",
              "      <th>10</th>\n",
              "      <td>Thats What I Want</td>\n",
              "      <td>Lil Nas X</td>\n",
              "      <td>11</td>\n",
              "      <td>2022-04-30</td>\n",
              "    </tr>\n",
              "    <tr>\n",
              "      <th>11</th>\n",
              "      <td>Bad Habits</td>\n",
              "      <td>Ed Sheeran</td>\n",
              "      <td>12</td>\n",
              "      <td>2022-04-30</td>\n",
              "    </tr>\n",
              "    <tr>\n",
              "      <th>12</th>\n",
              "      <td>abcdefu</td>\n",
              "      <td>GAYLE</td>\n",
              "      <td>13</td>\n",
              "      <td>2022-04-30</td>\n",
              "    </tr>\n",
              "    <tr>\n",
              "      <th>13</th>\n",
              "      <td>Shivers</td>\n",
              "      <td>Ed Sheeran</td>\n",
              "      <td>14</td>\n",
              "      <td>2022-04-30</td>\n",
              "    </tr>\n",
              "    <tr>\n",
              "      <th>14</th>\n",
              "      <td>Cold Heart (PNAU Remix)</td>\n",
              "      <td>Elton John &amp; Dua Lipa</td>\n",
              "      <td>15</td>\n",
              "      <td>2022-04-30</td>\n",
              "    </tr>\n",
              "    <tr>\n",
              "      <th>15</th>\n",
              "      <td>Easy On Me</td>\n",
              "      <td>Adele</td>\n",
              "      <td>16</td>\n",
              "      <td>2022-04-30</td>\n",
              "    </tr>\n",
              "  </tbody>\n",
              "</table>\n",
              "</div>\n",
              "      <button class=\"colab-df-convert\" onclick=\"convertToInteractive('df-943e4cb5-9e62-4aed-a7cc-b38a50f57afd')\"\n",
              "              title=\"Convert this dataframe to an interactive table.\"\n",
              "              style=\"display:none;\">\n",
              "        \n",
              "  <svg xmlns=\"http://www.w3.org/2000/svg\" height=\"24px\"viewBox=\"0 0 24 24\"\n",
              "       width=\"24px\">\n",
              "    <path d=\"M0 0h24v24H0V0z\" fill=\"none\"/>\n",
              "    <path d=\"M18.56 5.44l.94 2.06.94-2.06 2.06-.94-2.06-.94-.94-2.06-.94 2.06-2.06.94zm-11 1L8.5 8.5l.94-2.06 2.06-.94-2.06-.94L8.5 2.5l-.94 2.06-2.06.94zm10 10l.94 2.06.94-2.06 2.06-.94-2.06-.94-.94-2.06-.94 2.06-2.06.94z\"/><path d=\"M17.41 7.96l-1.37-1.37c-.4-.4-.92-.59-1.43-.59-.52 0-1.04.2-1.43.59L10.3 9.45l-7.72 7.72c-.78.78-.78 2.05 0 2.83L4 21.41c.39.39.9.59 1.41.59.51 0 1.02-.2 1.41-.59l7.78-7.78 2.81-2.81c.8-.78.8-2.07 0-2.86zM5.41 20L4 18.59l7.72-7.72 1.47 1.35L5.41 20z\"/>\n",
              "  </svg>\n",
              "      </button>\n",
              "      \n",
              "  <style>\n",
              "    .colab-df-container {\n",
              "      display:flex;\n",
              "      flex-wrap:wrap;\n",
              "      gap: 12px;\n",
              "    }\n",
              "\n",
              "    .colab-df-convert {\n",
              "      background-color: #E8F0FE;\n",
              "      border: none;\n",
              "      border-radius: 50%;\n",
              "      cursor: pointer;\n",
              "      display: none;\n",
              "      fill: #1967D2;\n",
              "      height: 32px;\n",
              "      padding: 0 0 0 0;\n",
              "      width: 32px;\n",
              "    }\n",
              "\n",
              "    .colab-df-convert:hover {\n",
              "      background-color: #E2EBFA;\n",
              "      box-shadow: 0px 1px 2px rgba(60, 64, 67, 0.3), 0px 1px 3px 1px rgba(60, 64, 67, 0.15);\n",
              "      fill: #174EA6;\n",
              "    }\n",
              "\n",
              "    [theme=dark] .colab-df-convert {\n",
              "      background-color: #3B4455;\n",
              "      fill: #D2E3FC;\n",
              "    }\n",
              "\n",
              "    [theme=dark] .colab-df-convert:hover {\n",
              "      background-color: #434B5C;\n",
              "      box-shadow: 0px 1px 3px 1px rgba(0, 0, 0, 0.15);\n",
              "      filter: drop-shadow(0px 1px 2px rgba(0, 0, 0, 0.3));\n",
              "      fill: #FFFFFF;\n",
              "    }\n",
              "  </style>\n",
              "\n",
              "      <script>\n",
              "        const buttonEl =\n",
              "          document.querySelector('#df-943e4cb5-9e62-4aed-a7cc-b38a50f57afd button.colab-df-convert');\n",
              "        buttonEl.style.display =\n",
              "          google.colab.kernel.accessAllowed ? 'block' : 'none';\n",
              "\n",
              "        async function convertToInteractive(key) {\n",
              "          const element = document.querySelector('#df-943e4cb5-9e62-4aed-a7cc-b38a50f57afd');\n",
              "          const dataTable =\n",
              "            await google.colab.kernel.invokeFunction('convertToInteractive',\n",
              "                                                     [key], {});\n",
              "          if (!dataTable) return;\n",
              "\n",
              "          const docLinkHtml = 'Like what you see? Visit the ' +\n",
              "            '<a target=\"_blank\" href=https://colab.research.google.com/notebooks/data_table.ipynb>data table notebook</a>'\n",
              "            + ' to learn more about interactive tables.';\n",
              "          element.innerHTML = '';\n",
              "          dataTable['output_type'] = 'display_data';\n",
              "          await google.colab.output.renderOutput(dataTable, element);\n",
              "          const docLink = document.createElement('div');\n",
              "          docLink.innerHTML = docLinkHtml;\n",
              "          element.appendChild(docLink);\n",
              "        }\n",
              "      </script>\n",
              "    </div>\n",
              "  </div>\n",
              "  "
            ]
          },
          "metadata": {},
          "execution_count": 9
        }
      ]
    },
    {
      "cell_type": "code",
      "source": [
        "df.shape"
      ],
      "metadata": {
        "colab": {
          "base_uri": "https://localhost:8080/"
        },
        "id": "5RTvGOC3n-gC",
        "outputId": "24428b91-25ab-47ed-c6bf-611f48b16abe"
      },
      "execution_count": null,
      "outputs": [
        {
          "output_type": "execute_result",
          "data": {
            "text/plain": [
              "(49200, 4)"
            ]
          },
          "metadata": {},
          "execution_count": 11
        }
      ]
    },
    {
      "cell_type": "code",
      "source": [
        "df.to_excel('BillBoard_API_Song_Retrieval_FEB_LargeData.xlsx', header = True)"
      ],
      "metadata": {
        "id": "jazQjC45psG7"
      },
      "execution_count": null,
      "outputs": []
    },
    {
      "cell_type": "code",
      "source": [
        "duplicate = df[df.duplicated(['title', 'artist'])].count()\n",
        "  \n",
        "print(\"Duplicate Rows based on Name and Age :\", duplicate)"
      ],
      "metadata": {
        "id": "PNlDsOrYp09o",
        "colab": {
          "base_uri": "https://localhost:8080/"
        },
        "outputId": "8a910055-5a0a-4b7e-8f11-751c385030d7"
      },
      "execution_count": null,
      "outputs": [
        {
          "output_type": "stream",
          "name": "stdout",
          "text": [
            "Duplicate Rows based on Name and Age : title     35391\n",
            "artist    35391\n",
            "rank      35391\n",
            "date      35391\n",
            "dtype: int64\n"
          ]
        }
      ]
    },
    {
      "cell_type": "code",
      "source": [
        "new_df = df.drop_duplicates(subset=['title', 'artist'], keep=False)\n",
        "new_df.shape"
      ],
      "metadata": {
        "colab": {
          "base_uri": "https://localhost:8080/"
        },
        "id": "WRQUy9egQ9cF",
        "outputId": "203adb8b-ef45-4b08-fd79-64748ff99b64"
      },
      "execution_count": null,
      "outputs": [
        {
          "output_type": "execute_result",
          "data": {
            "text/plain": [
              "(2620, 4)"
            ]
          },
          "metadata": {},
          "execution_count": 18
        }
      ]
    },
    {
      "cell_type": "code",
      "source": [
        "#getting songs for most recent billboard for comparison to twitter data\n",
        "song_list = []\n",
        "song_recent = bb.ChartData(name= \"hot-100\", date='2022-04-26', fetch=True, timeout=60)\n",
        "song_list.append(song_recent)"
      ],
      "metadata": {
        "id": "REBnApDKRx7S"
      },
      "execution_count": null,
      "outputs": []
    },
    {
      "cell_type": "code",
      "source": [
        "song_dict = dict()\n",
        "songs = []\n",
        "for song in song_list:\n",
        "    for track in song:\n",
        "        track_dictionary = {\"title\": track.title,\"artist\": track.artist,\"rank\":track.rank, \"date\": song.date}\n",
        "        songs.append(track_dictionary)"
      ],
      "metadata": {
        "id": "kTG-vItbuCRk"
      },
      "execution_count": null,
      "outputs": []
    },
    {
      "cell_type": "code",
      "source": [
        "df = pd.DataFrame(songs)"
      ],
      "metadata": {
        "id": "oBYt7cHut7mU"
      },
      "execution_count": null,
      "outputs": []
    },
    {
      "cell_type": "code",
      "source": [
        "df.to_csv('Billboard_Chart_30_04.csv', header=True)"
      ],
      "metadata": {
        "id": "8t6VprJdt4Tj"
      },
      "execution_count": null,
      "outputs": []
    }
  ]
}
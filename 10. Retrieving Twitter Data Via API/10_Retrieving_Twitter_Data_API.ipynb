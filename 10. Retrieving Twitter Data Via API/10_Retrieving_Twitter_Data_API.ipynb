{
  "cells": [
    {
      "cell_type": "code",
      "execution_count": null,
      "metadata": {
        "colab": {
          "base_uri": "https://localhost:8080/"
        },
        "id": "1t2SiSTFWJF7",
        "outputId": "e27f5e03-1f52-4a54-e20a-bbab76b0cb24"
      },
      "outputs": [
        {
          "output_type": "stream",
          "name": "stdout",
          "text": [
            "Collecting googletrans\n",
            "  Downloading googletrans-3.0.0.tar.gz (17 kB)\n",
            "Collecting httpx==0.13.3\n",
            "  Downloading httpx-0.13.3-py3-none-any.whl (55 kB)\n",
            "\u001b[K     |████████████████████████████████| 55 kB 1.9 MB/s \n",
            "\u001b[?25hRequirement already satisfied: certifi in /usr/local/lib/python3.7/dist-packages (from httpx==0.13.3->googletrans) (2021.10.8)\n",
            "Collecting sniffio\n",
            "  Downloading sniffio-1.2.0-py3-none-any.whl (10 kB)\n",
            "Collecting rfc3986<2,>=1.3\n",
            "  Downloading rfc3986-1.5.0-py2.py3-none-any.whl (31 kB)\n",
            "Collecting hstspreload\n",
            "  Downloading hstspreload-2021.12.1-py3-none-any.whl (1.3 MB)\n",
            "\u001b[K     |████████████████████████████████| 1.3 MB 10.6 MB/s \n",
            "\u001b[?25hRequirement already satisfied: idna==2.* in /usr/local/lib/python3.7/dist-packages (from httpx==0.13.3->googletrans) (2.10)\n",
            "Requirement already satisfied: chardet==3.* in /usr/local/lib/python3.7/dist-packages (from httpx==0.13.3->googletrans) (3.0.4)\n",
            "Collecting httpcore==0.9.*\n",
            "  Downloading httpcore-0.9.1-py3-none-any.whl (42 kB)\n",
            "\u001b[K     |████████████████████████████████| 42 kB 1.1 MB/s \n",
            "\u001b[?25hCollecting h2==3.*\n",
            "  Downloading h2-3.2.0-py2.py3-none-any.whl (65 kB)\n",
            "\u001b[K     |████████████████████████████████| 65 kB 3.1 MB/s \n",
            "\u001b[?25hCollecting h11<0.10,>=0.8\n",
            "  Downloading h11-0.9.0-py2.py3-none-any.whl (53 kB)\n",
            "\u001b[K     |████████████████████████████████| 53 kB 1.8 MB/s \n",
            "\u001b[?25hCollecting hpack<4,>=3.0\n",
            "  Downloading hpack-3.0.0-py2.py3-none-any.whl (38 kB)\n",
            "Collecting hyperframe<6,>=5.2.0\n",
            "  Downloading hyperframe-5.2.0-py2.py3-none-any.whl (12 kB)\n",
            "Building wheels for collected packages: googletrans\n",
            "  Building wheel for googletrans (setup.py) ... \u001b[?25l\u001b[?25hdone\n",
            "  Created wheel for googletrans: filename=googletrans-3.0.0-py3-none-any.whl size=15735 sha256=81b9899f0eae18ac9ffb59121f3744f73e54023588f210d3a846b9c718546146\n",
            "  Stored in directory: /root/.cache/pip/wheels/20/da/eb/a54579056f265eede0417df537dd56d3df5b9eb2b25df0003d\n",
            "Successfully built googletrans\n",
            "Installing collected packages: hyperframe, hpack, sniffio, h2, h11, rfc3986, httpcore, hstspreload, httpx, googletrans\n",
            "Successfully installed googletrans-3.0.0 h11-0.9.0 h2-3.2.0 hpack-3.0.0 hstspreload-2021.12.1 httpcore-0.9.1 httpx-0.13.3 hyperframe-5.2.0 rfc3986-1.5.0 sniffio-1.2.0\n",
            "Collecting langdetect\n",
            "  Downloading langdetect-1.0.9.tar.gz (981 kB)\n",
            "\u001b[K     |████████████████████████████████| 981 kB 5.1 MB/s \n",
            "\u001b[?25hRequirement already satisfied: six in /usr/local/lib/python3.7/dist-packages (from langdetect) (1.15.0)\n",
            "Building wheels for collected packages: langdetect\n",
            "  Building wheel for langdetect (setup.py) ... \u001b[?25l\u001b[?25hdone\n",
            "  Created wheel for langdetect: filename=langdetect-1.0.9-py3-none-any.whl size=993242 sha256=8ca9a081ce8c361238231b286226b8245a68c636f30fc9ef0576ce5af80eda36\n",
            "  Stored in directory: /root/.cache/pip/wheels/c5/96/8a/f90c59ed25d75e50a8c10a1b1c2d4c402e4dacfa87f3aff36a\n",
            "Successfully built langdetect\n",
            "Installing collected packages: langdetect\n",
            "Successfully installed langdetect-1.0.9\n",
            "Collecting google_trans_new\n",
            "  Downloading google_trans_new-1.1.9-py3-none-any.whl (9.2 kB)\n",
            "Installing collected packages: google-trans-new\n",
            "Successfully installed google-trans-new-1.1.9\n"
          ]
        }
      ],
      "source": [
        "!pip install googletrans\n",
        "!pip install langdetect\n",
        "!pip install google_trans_new"
      ]
    },
    {
      "cell_type": "code",
      "execution_count": null,
      "metadata": {
        "colab": {
          "base_uri": "https://localhost:8080/"
        },
        "id": "ox3qZ03hVcDb",
        "outputId": "3d9b937e-1e03-4b6b-84c0-26161e074b36"
      },
      "outputs": [
        {
          "output_type": "stream",
          "name": "stdout",
          "text": [
            "Libraries imported\n"
          ]
        },
        {
          "output_type": "stream",
          "name": "stderr",
          "text": [
            "/usr/local/lib/python3.7/dist-packages/nltk/twitter/__init__.py:20: UserWarning: The twython library has not been installed. Some functionality from the twitter package will not be available.\n",
            "  warnings.warn(\"The twython library has not been installed. \"\n"
          ]
        }
      ],
      "source": [
        "#importing the various libraries\n",
        "from textblob import TextBlob\n",
        "import tweepy\n",
        "import pandas as pd\n",
        "import numpy as np\n",
        "import nltk\n",
        "import re \n",
        "\n",
        "from nltk.stem import PorterStemmer\n",
        "from nltk.corpus import stopwords\n",
        "from nltk.tokenize import word_tokenize\n",
        "#import googletrans\n",
        "print('Libraries imported')"
      ]
    },
    {
      "cell_type": "code",
      "execution_count": null,
      "metadata": {
        "colab": {
          "base_uri": "https://localhost:8080/"
        },
        "id": "XRkpJHvNVyS7",
        "outputId": "9e965d16-6d8d-4efa-e92f-4a41e61c4606"
      },
      "outputs": [
        {
          "output_type": "stream",
          "name": "stdout",
          "text": [
            "API Authenticated\n"
          ]
        }
      ],
      "source": [
        "# Authentication of API using Twitter Developers Lisense\n",
        "\n",
        "consumerKey = 'MqV68kWHFLxRrR75NWEIFRknN'\n",
        "consumerSecret = 't9ZWwYGUlTLmD2lRPHYkdyMYfIQDKsRrI1vDFAk3GSy2irYNKg'\n",
        "accessToken = '1978957736-6DBzmJq1m1TWIQdWuxgiGFNKNBQbQthbeGLhnBe'\n",
        "accessTokenSecret = 'QcWjKTuL3vw4swMtMDJ1TbU9LOhdr27k1lRRMns1OgQuS'\n",
        "auth = tweepy.OAuthHandler(consumerKey, consumerSecret)\n",
        "auth.set_access_token(accessToken, accessTokenSecret)\n",
        "api = tweepy.API(auth, wait_on_rate_limit = True)\n",
        "print('API Authenticated')"
      ]
    },
    {
      "cell_type": "code",
      "execution_count": null,
      "metadata": {
        "id": "Z5Cokkj4gKd_"
      },
      "outputs": [],
      "source": [
        "import datetime"
      ]
    },
    {
      "cell_type": "code",
      "execution_count": null,
      "metadata": {
        "id": "FLQdtL6mXOOb",
        "colab": {
          "base_uri": "https://localhost:8080/"
        },
        "outputId": "3cf50ef0-ae3e-40da-dbf2-bd142f347f88"
      },
      "outputs": [
        {
          "name": "stdout",
          "output_type": "stream",
          "text": [
            "Enter the keyword you would like to search: #nowplaying\n"
          ]
        }
      ],
      "source": [
        "#selecting the keyword to extract the tweets by\n",
        "keyword = input('Enter the keyword you would like to search: ')\n",
        "#filtering out retweets\n",
        "new_search = keyword +'-filter:retweets'\n",
        "#daily limit for standard developer liscense is 900 tweets a day\n",
        "num_tweets = 900\n",
        "tweets = tweepy.Cursor(api.search, q=new_search, language = 'en', tweet_mode = 'extended').items(num_tweets)\n",
        "#storing data in a list to later convert to DF\n",
        "tweet_list = [[tweet.id, tweet.user.name, tweet.user.followers_count, tweet.full_text, tweet.created_at, tweet.favorite_count, tweet.retweet_count] for tweet in tweets]"
      ]
    },
    {
      "cell_type": "code",
      "execution_count": null,
      "metadata": {
        "colab": {
          "base_uri": "https://localhost:8080/"
        },
        "id": "_GT9tIIDaUat",
        "outputId": "4af5d9e6-eafc-4e32-be3b-b65c59946779"
      },
      "outputs": [
        {
          "output_type": "stream",
          "name": "stdout",
          "text": [
            "900\n"
          ]
        }
      ],
      "source": [
        "print(len(tweet_list))"
      ]
    },
    {
      "cell_type": "code",
      "execution_count": null,
      "metadata": {
        "colab": {
          "base_uri": "https://localhost:8080/",
          "height": 354
        },
        "id": "dS1_-r_daagF",
        "outputId": "07e925ca-d603-45cb-8b40-8687d5413809"
      },
      "outputs": [
        {
          "output_type": "execute_result",
          "data": {
            "text/plain": [
              "                    ID                               User  Follower Count  \\\n",
              "0  1523695629608038400                             ママーれまろ             213   \n",
              "1  1523695621852389377                         ROTR Radio            4660   \n",
              "2  1523695618077515777                     Osvaldo Villar            1601   \n",
              "3  1523695616009773058                Houndstooth Radio ♬            1665   \n",
              "4  1523695613300387840  Music City Digital Media Network©           18572   \n",
              "\n",
              "                                               Tweet          Created At  \\\n",
              "0  #Nowplaying 青春いいじゃないかっ - 鶴屋さん (CV.松岡由貴) (涼宮ハルヒ... 2022-05-09 16:05:21   \n",
              "1  #NowPlaying Show Your Face - Shot at Dawn :: T... 2022-05-09 16:05:19   \n",
              "2  @GdaytoYou @JessycaLewis #timetowine #NowPlayi... 2022-05-09 16:05:18   \n",
              "3  #nowplaying Cabaret Voltaire / I Want You / I ... 2022-05-09 16:05:18   \n",
              "4  #NowPlaying Merry Go Round by Peter Baron List... 2022-05-09 16:05:17   \n",
              "\n",
              "   Favourite Count  Retweet Count  \n",
              "0                0              0  \n",
              "1                0              0  \n",
              "2                0              0  \n",
              "3                0              0  \n",
              "4                0              0  "
            ],
            "text/html": [
              "\n",
              "  <div id=\"df-54fe20d4-4acc-4225-8ed8-f9d5b0aba683\">\n",
              "    <div class=\"colab-df-container\">\n",
              "      <div>\n",
              "<style scoped>\n",
              "    .dataframe tbody tr th:only-of-type {\n",
              "        vertical-align: middle;\n",
              "    }\n",
              "\n",
              "    .dataframe tbody tr th {\n",
              "        vertical-align: top;\n",
              "    }\n",
              "\n",
              "    .dataframe thead th {\n",
              "        text-align: right;\n",
              "    }\n",
              "</style>\n",
              "<table border=\"1\" class=\"dataframe\">\n",
              "  <thead>\n",
              "    <tr style=\"text-align: right;\">\n",
              "      <th></th>\n",
              "      <th>ID</th>\n",
              "      <th>User</th>\n",
              "      <th>Follower Count</th>\n",
              "      <th>Tweet</th>\n",
              "      <th>Created At</th>\n",
              "      <th>Favourite Count</th>\n",
              "      <th>Retweet Count</th>\n",
              "    </tr>\n",
              "  </thead>\n",
              "  <tbody>\n",
              "    <tr>\n",
              "      <th>0</th>\n",
              "      <td>1523695629608038400</td>\n",
              "      <td>ママーれまろ</td>\n",
              "      <td>213</td>\n",
              "      <td>#Nowplaying 青春いいじゃないかっ - 鶴屋さん (CV.松岡由貴) (涼宮ハルヒ...</td>\n",
              "      <td>2022-05-09 16:05:21</td>\n",
              "      <td>0</td>\n",
              "      <td>0</td>\n",
              "    </tr>\n",
              "    <tr>\n",
              "      <th>1</th>\n",
              "      <td>1523695621852389377</td>\n",
              "      <td>ROTR Radio</td>\n",
              "      <td>4660</td>\n",
              "      <td>#NowPlaying Show Your Face - Shot at Dawn :: T...</td>\n",
              "      <td>2022-05-09 16:05:19</td>\n",
              "      <td>0</td>\n",
              "      <td>0</td>\n",
              "    </tr>\n",
              "    <tr>\n",
              "      <th>2</th>\n",
              "      <td>1523695618077515777</td>\n",
              "      <td>Osvaldo Villar</td>\n",
              "      <td>1601</td>\n",
              "      <td>@GdaytoYou @JessycaLewis #timetowine #NowPlayi...</td>\n",
              "      <td>2022-05-09 16:05:18</td>\n",
              "      <td>0</td>\n",
              "      <td>0</td>\n",
              "    </tr>\n",
              "    <tr>\n",
              "      <th>3</th>\n",
              "      <td>1523695616009773058</td>\n",
              "      <td>Houndstooth Radio ♬</td>\n",
              "      <td>1665</td>\n",
              "      <td>#nowplaying Cabaret Voltaire / I Want You / I ...</td>\n",
              "      <td>2022-05-09 16:05:18</td>\n",
              "      <td>0</td>\n",
              "      <td>0</td>\n",
              "    </tr>\n",
              "    <tr>\n",
              "      <th>4</th>\n",
              "      <td>1523695613300387840</td>\n",
              "      <td>Music City Digital Media Network©</td>\n",
              "      <td>18572</td>\n",
              "      <td>#NowPlaying Merry Go Round by Peter Baron List...</td>\n",
              "      <td>2022-05-09 16:05:17</td>\n",
              "      <td>0</td>\n",
              "      <td>0</td>\n",
              "    </tr>\n",
              "  </tbody>\n",
              "</table>\n",
              "</div>\n",
              "      <button class=\"colab-df-convert\" onclick=\"convertToInteractive('df-54fe20d4-4acc-4225-8ed8-f9d5b0aba683')\"\n",
              "              title=\"Convert this dataframe to an interactive table.\"\n",
              "              style=\"display:none;\">\n",
              "        \n",
              "  <svg xmlns=\"http://www.w3.org/2000/svg\" height=\"24px\"viewBox=\"0 0 24 24\"\n",
              "       width=\"24px\">\n",
              "    <path d=\"M0 0h24v24H0V0z\" fill=\"none\"/>\n",
              "    <path d=\"M18.56 5.44l.94 2.06.94-2.06 2.06-.94-2.06-.94-.94-2.06-.94 2.06-2.06.94zm-11 1L8.5 8.5l.94-2.06 2.06-.94-2.06-.94L8.5 2.5l-.94 2.06-2.06.94zm10 10l.94 2.06.94-2.06 2.06-.94-2.06-.94-.94-2.06-.94 2.06-2.06.94z\"/><path d=\"M17.41 7.96l-1.37-1.37c-.4-.4-.92-.59-1.43-.59-.52 0-1.04.2-1.43.59L10.3 9.45l-7.72 7.72c-.78.78-.78 2.05 0 2.83L4 21.41c.39.39.9.59 1.41.59.51 0 1.02-.2 1.41-.59l7.78-7.78 2.81-2.81c.8-.78.8-2.07 0-2.86zM5.41 20L4 18.59l7.72-7.72 1.47 1.35L5.41 20z\"/>\n",
              "  </svg>\n",
              "      </button>\n",
              "      \n",
              "  <style>\n",
              "    .colab-df-container {\n",
              "      display:flex;\n",
              "      flex-wrap:wrap;\n",
              "      gap: 12px;\n",
              "    }\n",
              "\n",
              "    .colab-df-convert {\n",
              "      background-color: #E8F0FE;\n",
              "      border: none;\n",
              "      border-radius: 50%;\n",
              "      cursor: pointer;\n",
              "      display: none;\n",
              "      fill: #1967D2;\n",
              "      height: 32px;\n",
              "      padding: 0 0 0 0;\n",
              "      width: 32px;\n",
              "    }\n",
              "\n",
              "    .colab-df-convert:hover {\n",
              "      background-color: #E2EBFA;\n",
              "      box-shadow: 0px 1px 2px rgba(60, 64, 67, 0.3), 0px 1px 3px 1px rgba(60, 64, 67, 0.15);\n",
              "      fill: #174EA6;\n",
              "    }\n",
              "\n",
              "    [theme=dark] .colab-df-convert {\n",
              "      background-color: #3B4455;\n",
              "      fill: #D2E3FC;\n",
              "    }\n",
              "\n",
              "    [theme=dark] .colab-df-convert:hover {\n",
              "      background-color: #434B5C;\n",
              "      box-shadow: 0px 1px 3px 1px rgba(0, 0, 0, 0.15);\n",
              "      filter: drop-shadow(0px 1px 2px rgba(0, 0, 0, 0.3));\n",
              "      fill: #FFFFFF;\n",
              "    }\n",
              "  </style>\n",
              "\n",
              "      <script>\n",
              "        const buttonEl =\n",
              "          document.querySelector('#df-54fe20d4-4acc-4225-8ed8-f9d5b0aba683 button.colab-df-convert');\n",
              "        buttonEl.style.display =\n",
              "          google.colab.kernel.accessAllowed ? 'block' : 'none';\n",
              "\n",
              "        async function convertToInteractive(key) {\n",
              "          const element = document.querySelector('#df-54fe20d4-4acc-4225-8ed8-f9d5b0aba683');\n",
              "          const dataTable =\n",
              "            await google.colab.kernel.invokeFunction('convertToInteractive',\n",
              "                                                     [key], {});\n",
              "          if (!dataTable) return;\n",
              "\n",
              "          const docLinkHtml = 'Like what you see? Visit the ' +\n",
              "            '<a target=\"_blank\" href=https://colab.research.google.com/notebooks/data_table.ipynb>data table notebook</a>'\n",
              "            + ' to learn more about interactive tables.';\n",
              "          element.innerHTML = '';\n",
              "          dataTable['output_type'] = 'display_data';\n",
              "          await google.colab.output.renderOutput(dataTable, element);\n",
              "          const docLink = document.createElement('div');\n",
              "          docLink.innerHTML = docLinkHtml;\n",
              "          element.appendChild(docLink);\n",
              "        }\n",
              "      </script>\n",
              "    </div>\n",
              "  </div>\n",
              "  "
            ]
          },
          "metadata": {},
          "execution_count": 9
        }
      ],
      "source": [
        "twitter_df = pd.DataFrame(data=tweet_list, columns=['ID', 'User', 'Follower Count', 'Tweet', 'Created At', 'Favourite Count', 'Retweet Count'])\n",
        "twitter_df.head()"
      ]
    },
    {
      "cell_type": "code",
      "execution_count": null,
      "metadata": {
        "id": "bP-i71vntBKE"
      },
      "outputs": [],
      "source": [
        "twitter_df.to_csv('Twitter_NowPlaying_Data_09_05.csv', header=True)"
      ]
    }
  ],
  "metadata": {
    "colab": {
      "collapsed_sections": [],
      "name": "10. Retrieving Twitter Data - API.ipynb",
      "provenance": []
    },
    "kernelspec": {
      "display_name": "Python 3",
      "name": "python3"
    },
    "language_info": {
      "name": "python"
    }
  },
  "nbformat": 4,
  "nbformat_minor": 0
}